{
 "cells": [
  {
   "cell_type": "code",
   "execution_count": null,
   "metadata": {},
   "outputs": [],
   "source": [
    "import cv2\n",
    "import numpy as np"
   ]
  },
  {
   "cell_type": "code",
   "execution_count": null,
   "metadata": {},
   "outputs": [],
   "source": [
    "# Q1: Channel swap\n",
    "\n",
    "img = cv2.imread('imori.jpg')\n",
    "\n",
    "# use the numpy list slice inverse\n",
    "img[:,:,:] = img[:,:,::-1]  \n",
    "\n",
    "# cv2.imwrite(\"out.jpg\", img)\n",
    "cv2.imshow(\"result\", img)\n",
    "cv2.waitKey(0)\n",
    "cv2.destroyAllWindows()"
   ]
  },
  {
   "cell_type": "code",
   "execution_count": null,
   "metadata": {},
   "outputs": [],
   "source": [
    "# Q2: Grayscale\n",
    "\n",
    "# Y = 0.2126 R + 0.7152 G + 0.0722 B\n",
    "\n",
    "img = cv2.imread('imori.jpg')\n",
    "\n",
    "# --------------------------------------------------------\n",
    "b = img[:,:,0] * 0.0722\n",
    "g = img[:,:,1] * 0.7152\n",
    "r = img[:,:,2] * 0.2126\n",
    "\n",
    "res = (b + g + r).astype(np.uint8)\n",
    "\n",
    "# cv2.imwrite(\"res.jpg\", res)\n",
    "cv2.imshow(\"result\", res)\n",
    "cv2.waitKey(0)\n",
    "cv2.destroyAllWindows()\n",
    "\n",
    "#----------------------------------------------------------\n",
    "# numpy dot multiply:\n",
    "\n",
    "res2 = np.dot(img[:,:,:],np.array([0.0722,0.7152,0.2126])).astype(np.uint8)\n",
    "\n",
    "# cv2.imwrite(\"res2.jpg\", res2)\n",
    "cv2.imshow(\"result2\", res2)\n",
    "cv2.waitKey(0)\n",
    "cv2.destroyAllWindows()"
   ]
  },
  {
   "cell_type": "code",
   "execution_count": null,
   "metadata": {},
   "outputs": [],
   "source": [
    "# Q3: Thresholding\n",
    "\n",
    "img = cv2.imread('imori.jpg')\n",
    "\n",
    "# Grayscalize\n",
    "temp = np.dot(img[:,:,:],np.array([0.0722,0.7152,0.2126])).astype(np.uint8)\n",
    "# if < 128: 0 else 255\n",
    "res3 = np.where(temp<128,0,255).astype(np.uint8)\n",
    "\n",
    "# cv2.imwrite(\"res3.jpg\", res3)\n",
    "cv2.imshow(\"result\", res3)\n",
    "cv2.waitKey(0)\n",
    "cv2.destroyAllWindows()\n",
    "\n",
    "# or \n",
    "# temp[temp<128] = 0\n",
    "# temp[temp>=128] = 255"
   ]
  },
  {
   "cell_type": "code",
   "execution_count": null,
   "metadata": {},
   "outputs": [],
   "source": [
    "# Q4: Otsu's Method\n",
    "\n",
    "img = cv2.imread('imori.jpg')\n",
    "\n",
    "# Grayscalize\n",
    "temp = np.dot(img[:,:,:],np.array([0.0722,0.7152,0.2126])).astype(np.uint8)\n",
    "# if < 128: 0 else 255\n",
    "\n",
    "threshing = 0\n",
    "arg_max = 0\n",
    "pixels = temp.shape[0] * temp.shape[1]\n",
    "\n",
    "for i in range(1,255):\n",
    "    \n",
    "    t1 = temp[np.where(temp<i)]\n",
    "    w1 = len(t1)/pixels\n",
    "    m1 = np.mean(t1) if len(t1) > 0 else 0\n",
    "    \n",
    "    t2 = temp[np.where(temp>=i)]\n",
    "    w2 = len(t2)/pixels\n",
    "    m2 = np.mean(t2) if len(t2) > 0 else 0\n",
    "    \n",
    "    args = w1 * w2 * ((m1-m2) ** 2)\n",
    "    \n",
    "    if arg_max < args:\n",
    "        arg_max = args\n",
    "        threshing = i\n",
    "        \n",
    "print(threshing)\n",
    "res4 = np.where(temp<threshing,0,255).astype(np.uint8)\n",
    "\n",
    "# cv2.imwrite(\"res4.jpg\", res4)\n",
    "cv2.imshow(\"result\", res4)\n",
    "cv2.waitKey(0)\n",
    "cv2.destroyAllWindows()\n"
   ]
  },
  {
   "cell_type": "code",
   "execution_count": null,
   "metadata": {},
   "outputs": [],
   "source": [
    "# Q5: HSV_conversion"
   ]
  },
  {
   "cell_type": "code",
   "execution_count": null,
   "metadata": {},
   "outputs": [],
   "source": [
    "# Q6: Discretization\n",
    "\n",
    "img = cv2.imread('imori.jpg')\n",
    "\n",
    "res6 = img // 64 * 64 + 32\n",
    "\n",
    "cv2.imshow(\"result\", res6)\n",
    "cv2.waitKey(0)\n",
    "cv2.destroyAllWindows()"
   ]
  },
  {
   "cell_type": "code",
   "execution_count": null,
   "metadata": {},
   "outputs": [],
   "source": [
    "# Q7: Average Pooling\n",
    "\n",
    "img = cv2.imread('imori.jpg')\n",
    "\n",
    "res7 = img.copy()\n",
    "\n",
    "h, w, c = img.shape\n",
    "\n",
    "kernel = 8\n",
    "\n",
    "step_h = int(h//kernel)\n",
    "step_w = int(w//kernel)\n",
    "\n",
    "for i in range(step_h):\n",
    "    for j in range(step_w):\n",
    "        for p in range(c):\n",
    "            res7[i*kernel:(i+1)*kernel, j*kernel:(j+1)*kernel, p] = np.mean(res7[i*kernel:(i+1)*kernel, j*kernel:(j+1)*kernel, p]).astype(np.uint8)\n",
    "      \n",
    "    \n",
    "cv2.imshow(\"result\", res7)\n",
    "cv2.waitKey(0)\n",
    "cv2.destroyAllWindows()    "
   ]
  },
  {
   "cell_type": "code",
   "execution_count": null,
   "metadata": {},
   "outputs": [],
   "source": [
    "# Q8: Max pooling\n",
    "\n",
    "img = cv2.imread('imori.jpg')\n",
    "\n",
    "res8 = img.copy()\n",
    "\n",
    "h, w, c = img.shape\n",
    "\n",
    "kernel = 8\n",
    "\n",
    "step_h = int(h//kernel)\n",
    "step_w = int(w//kernel)\n",
    "\n",
    "for i in range(step_h):\n",
    "    for j in range(step_w):\n",
    "        for p in range(c):\n",
    "            res8[i*kernel:(i+1)*kernel, j*kernel:(j+1)*kernel, p] = np.max(res8[i*kernel:(i+1)*kernel, j*kernel:(j+1)*kernel, p]).astype(np.uint8)\n",
    "      \n",
    "    \n",
    "cv2.imshow(\"result\", res8)\n",
    "cv2.waitKey(0)\n",
    "cv2.destroyAllWindows()   "
   ]
  }
 ],
 "metadata": {
  "kernelspec": {
   "display_name": "Python 3",
   "language": "python",
   "name": "python3"
  },
  "language_info": {
   "codemirror_mode": {
    "name": "ipython",
    "version": 3
   },
   "file_extension": ".py",
   "mimetype": "text/x-python",
   "name": "python",
   "nbconvert_exporter": "python",
   "pygments_lexer": "ipython3",
   "version": "3.6.4"
  }
 },
 "nbformat": 4,
 "nbformat_minor": 2
}
