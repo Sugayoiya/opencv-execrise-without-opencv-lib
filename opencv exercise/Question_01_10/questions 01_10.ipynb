{
 "cells": [
  {
   "cell_type": "code",
   "execution_count": 49,
   "metadata": {},
   "outputs": [],
   "source": [
    "import cv2\n",
    "import numpy as np"
   ]
  },
  {
   "cell_type": "code",
   "execution_count": 3,
   "metadata": {},
   "outputs": [],
   "source": [
    "# Q1: Channel swap\n",
    "\n",
    "img = cv2.imread('imori.jpg')\n",
    "\n",
    "# use the numpy list slice inverse\n",
    "img[:,:,:] = img[:,:,::-1]  \n",
    "\n",
    "# cv2.imwrite(\"out.jpg\", img)\n",
    "cv2.imshow(\"result\", img)\n",
    "cv2.waitKey(0)\n",
    "cv2.destroyAllWindows()"
   ]
  },
  {
   "cell_type": "code",
   "execution_count": 66,
   "metadata": {},
   "outputs": [],
   "source": [
    "# Q2: Grayscale\n",
    "\n",
    "# Y = 0.2126 R + 0.7152 G + 0.0722 B\n",
    "\n",
    "img = cv2.imread('imori.jpg')\n",
    "\n",
    "# --------------------------------------------------------\n",
    "b = img[:,:,0] * 0.0722\n",
    "g = img[:,:,1] * 0.7152\n",
    "r = img[:,:,2] * 0.2126\n",
    "\n",
    "res = (b + g + r).astype(np.uint8)\n",
    "\n",
    "# cv2.imwrite(\"res.jpg\", res)\n",
    "cv2.imshow(\"result\", res)\n",
    "cv2.waitKey(0)\n",
    "cv2.destroyAllWindows()\n",
    "\n",
    "#----------------------------------------------------------\n",
    "# numpy dot multiply:\n",
    "\n",
    "res1 = np.dot(img[:,:,:],np.array([0.0722,0.7152,0.2126])).astype(np.uint8)\n",
    "\n",
    "# cv2.imwrite(\"res1.jpg\", res1)\n",
    "cv2.imshow(\"result1\", res1)\n",
    "cv2.waitKey(0)\n",
    "cv2.destroyAllWindows()"
   ]
  },
  {
   "cell_type": "code",
   "execution_count": 71,
   "metadata": {},
   "outputs": [
    {
     "name": "stdout",
     "output_type": "stream",
     "text": [
      "[[  0   0   0 ...   0   0   0]\n",
      " [  0   0   0 ... 255 255   0]\n",
      " [  0   0   0 ... 255 255   0]\n",
      " ...\n",
      " [255   0   0 ...   0   0   0]\n",
      " [255   0   0 ...   0   0   0]\n",
      " [255 255   0 ...   0   0   0]]\n"
     ]
    }
   ],
   "source": [
    "# Q3: Thresholding\n",
    "\n",
    "img = cv2.imread('imori.jpg')\n",
    "\n",
    "# Grayscalize\n",
    "temp = np.dot(img[:,:,:],np.array([0.0722,0.7152,0.2126])).astype(np.uint8)\n",
    "# if < 128: 0 else 255\n",
    "res = np.where(temp<128,0,255).astype(np.uint8)\n",
    "\n",
    "# cv2.imwrite(\"res.jpg\", res)\n",
    "cv2.imshow(\"result\", res)\n",
    "cv2.waitKey(0)\n",
    "cv2.destroyAllWindows()\n",
    "\n",
    "# or \n",
    "# temp[temp<128] = 0\n",
    "# temp[temp>=128] = 255"
   ]
  },
  {
   "cell_type": "code",
   "execution_count": null,
   "metadata": {},
   "outputs": [],
   "source": [
    "# Q4: Otsu's Method\n",
    "\n"
   ]
  }
 ],
 "metadata": {
  "kernelspec": {
   "display_name": "Python 3",
   "language": "python",
   "name": "python3"
  },
  "language_info": {
   "codemirror_mode": {
    "name": "ipython",
    "version": 3
   },
   "file_extension": ".py",
   "mimetype": "text/x-python",
   "name": "python",
   "nbconvert_exporter": "python",
   "pygments_lexer": "ipython3",
   "version": "3.6.4"
  }
 },
 "nbformat": 4,
 "nbformat_minor": 2
}
